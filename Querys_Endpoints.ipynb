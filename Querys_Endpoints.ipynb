version https://git-lfs.github.com/spec/v1
oid sha256:421970161e58d9d1cae15f06e75fd6162f14fdcf1eb523f083396f89da1e2063
size 17907
