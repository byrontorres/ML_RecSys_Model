{
 "cells": [
  {
   "cell_type": "markdown",
   "metadata": {},
   "source": [
    "# **ETL steam_games.json**\n",
    "\n",
    "1. ETL para datos de games plataforma STEAM: Transformamos de la información general del archivo. \n",
    "2. Objetivo: preparar datos para análisis. \n",
    "3. Importamos bibliotecas esenciales y nos enfocamos en limpieza y almacenamiento de datos transformados."
   ]
  },
  {
   "cell_type": "markdown",
   "metadata": {},
   "source": [
    "# Librerias"
   ]
  },
  {
   "cell_type": "code",
   "execution_count": 22,
   "metadata": {},
   "outputs": [],
   "source": [
    "import pandas as pd\n",
    "import numpy as np\n",
    "import os\n",
    "import json"
   ]
  },
  {
   "cell_type": "markdown",
   "metadata": {},
   "source": [
    "La primera etapa del proceso de ETL para el archivo de juegos comienza con la descarga del archivo original desde Google Drive. Se requiere la aplicación de técnicas de lectura y limpieza para preparar los datos antes de proceder con su análisis posterior."
   ]
  },
  {
   "cell_type": "markdown",
   "metadata": {},
   "source": [
    "Creamos funcion de lectura para archivos desde la carpera **Archivos originales PI_1** ubicada en el disco local"
   ]
  },
  {
   "cell_type": "code",
   "execution_count": 23,
   "metadata": {},
   "outputs": [],
   "source": [
    "import os\n",
    "import json\n",
    "\n",
    "def leer_json(nombre_archivo):\n",
    "    # Verificar si el archivo existe en la ruta proporcionada\n",
    "    if not os.path.exists(nombre_archivo):\n",
    "        print(f\"El archivo {nombre_archivo} no existe.\")\n",
    "        return None\n",
    "\n",
    "    # Lista para almacenar los datos JSON\n",
    "    datos = []\n",
    "\n",
    "    # Leer el archivo línea por línea y cargar cada objeto JSON por separado\n",
    "    with open(nombre_archivo, 'r', encoding='utf-8') as file:\n",
    "        for line in file:\n",
    "            # Verificar si la línea no está vacía y si contiene un objeto JSON válido\n",
    "            if line.strip() and line.strip()[0] == '{' and line.strip()[-1] == '}':\n",
    "                try:\n",
    "                    datos.append(json.loads(line))\n",
    "                except ValueError as e:\n",
    "                    print(f\"Error al cargar el objeto JSON en la línea {len(datos) + 1}: {e}\")\n",
    "\n",
    "    # Convertir la lista de objetos JSON en un DataFrame de pandas\n",
    "    df = pd.DataFrame(datos)\n",
    "\n",
    "    return df\n"
   ]
  },
  {
   "cell_type": "code",
   "execution_count": 24,
   "metadata": {},
   "outputs": [],
   "source": [
    "ruta_archivo = r'C:\\Users\\pc-admin\\Documents\\DATA\\Archivos originales PI_1\\output_steam_games.json'\n",
    "games = leer_json(ruta_archivo)"
   ]
  },
  {
   "cell_type": "code",
   "execution_count": 25,
   "metadata": {},
   "outputs": [
    {
     "data": {
      "text/html": [
       "<div>\n",
       "<style scoped>\n",
       "    .dataframe tbody tr th:only-of-type {\n",
       "        vertical-align: middle;\n",
       "    }\n",
       "\n",
       "    .dataframe tbody tr th {\n",
       "        vertical-align: top;\n",
       "    }\n",
       "\n",
       "    .dataframe thead th {\n",
       "        text-align: right;\n",
       "    }\n",
       "</style>\n",
       "<table border=\"1\" class=\"dataframe\">\n",
       "  <thead>\n",
       "    <tr style=\"text-align: right;\">\n",
       "      <th></th>\n",
       "      <th>publisher</th>\n",
       "      <th>genres</th>\n",
       "      <th>app_name</th>\n",
       "      <th>title</th>\n",
       "      <th>url</th>\n",
       "      <th>release_date</th>\n",
       "      <th>tags</th>\n",
       "      <th>reviews_url</th>\n",
       "      <th>specs</th>\n",
       "      <th>price</th>\n",
       "      <th>early_access</th>\n",
       "      <th>id</th>\n",
       "      <th>developer</th>\n",
       "    </tr>\n",
       "  </thead>\n",
       "  <tbody>\n",
       "    <tr>\n",
       "      <th>0</th>\n",
       "      <td>NaN</td>\n",
       "      <td>NaN</td>\n",
       "      <td>NaN</td>\n",
       "      <td>NaN</td>\n",
       "      <td>NaN</td>\n",
       "      <td>NaN</td>\n",
       "      <td>NaN</td>\n",
       "      <td>NaN</td>\n",
       "      <td>NaN</td>\n",
       "      <td>NaN</td>\n",
       "      <td>NaN</td>\n",
       "      <td>NaN</td>\n",
       "      <td>NaN</td>\n",
       "    </tr>\n",
       "    <tr>\n",
       "      <th>1</th>\n",
       "      <td>NaN</td>\n",
       "      <td>NaN</td>\n",
       "      <td>NaN</td>\n",
       "      <td>NaN</td>\n",
       "      <td>NaN</td>\n",
       "      <td>NaN</td>\n",
       "      <td>NaN</td>\n",
       "      <td>NaN</td>\n",
       "      <td>NaN</td>\n",
       "      <td>NaN</td>\n",
       "      <td>NaN</td>\n",
       "      <td>NaN</td>\n",
       "      <td>NaN</td>\n",
       "    </tr>\n",
       "    <tr>\n",
       "      <th>2</th>\n",
       "      <td>NaN</td>\n",
       "      <td>NaN</td>\n",
       "      <td>NaN</td>\n",
       "      <td>NaN</td>\n",
       "      <td>NaN</td>\n",
       "      <td>NaN</td>\n",
       "      <td>NaN</td>\n",
       "      <td>NaN</td>\n",
       "      <td>NaN</td>\n",
       "      <td>NaN</td>\n",
       "      <td>NaN</td>\n",
       "      <td>NaN</td>\n",
       "      <td>NaN</td>\n",
       "    </tr>\n",
       "    <tr>\n",
       "      <th>3</th>\n",
       "      <td>NaN</td>\n",
       "      <td>NaN</td>\n",
       "      <td>NaN</td>\n",
       "      <td>NaN</td>\n",
       "      <td>NaN</td>\n",
       "      <td>NaN</td>\n",
       "      <td>NaN</td>\n",
       "      <td>NaN</td>\n",
       "      <td>NaN</td>\n",
       "      <td>NaN</td>\n",
       "      <td>NaN</td>\n",
       "      <td>NaN</td>\n",
       "      <td>NaN</td>\n",
       "    </tr>\n",
       "    <tr>\n",
       "      <th>4</th>\n",
       "      <td>NaN</td>\n",
       "      <td>NaN</td>\n",
       "      <td>NaN</td>\n",
       "      <td>NaN</td>\n",
       "      <td>NaN</td>\n",
       "      <td>NaN</td>\n",
       "      <td>NaN</td>\n",
       "      <td>NaN</td>\n",
       "      <td>NaN</td>\n",
       "      <td>NaN</td>\n",
       "      <td>NaN</td>\n",
       "      <td>NaN</td>\n",
       "      <td>NaN</td>\n",
       "    </tr>\n",
       "  </tbody>\n",
       "</table>\n",
       "</div>"
      ],
      "text/plain": [
       "  publisher genres app_name title  url release_date tags reviews_url specs  \\\n",
       "0       NaN    NaN      NaN   NaN  NaN          NaN  NaN         NaN   NaN   \n",
       "1       NaN    NaN      NaN   NaN  NaN          NaN  NaN         NaN   NaN   \n",
       "2       NaN    NaN      NaN   NaN  NaN          NaN  NaN         NaN   NaN   \n",
       "3       NaN    NaN      NaN   NaN  NaN          NaN  NaN         NaN   NaN   \n",
       "4       NaN    NaN      NaN   NaN  NaN          NaN  NaN         NaN   NaN   \n",
       "\n",
       "  price early_access   id developer  \n",
       "0   NaN          NaN  NaN       NaN  \n",
       "1   NaN          NaN  NaN       NaN  \n",
       "2   NaN          NaN  NaN       NaN  \n",
       "3   NaN          NaN  NaN       NaN  \n",
       "4   NaN          NaN  NaN       NaN  "
      ]
     },
     "execution_count": 25,
     "metadata": {},
     "output_type": "execute_result"
    }
   ],
   "source": [
    "games.head(5)"
   ]
  },
  {
   "cell_type": "code",
   "execution_count": 26,
   "metadata": {},
   "outputs": [
    {
     "data": {
      "text/html": [
       "<div>\n",
       "<style scoped>\n",
       "    .dataframe tbody tr th:only-of-type {\n",
       "        vertical-align: middle;\n",
       "    }\n",
       "\n",
       "    .dataframe tbody tr th {\n",
       "        vertical-align: top;\n",
       "    }\n",
       "\n",
       "    .dataframe thead th {\n",
       "        text-align: right;\n",
       "    }\n",
       "</style>\n",
       "<table border=\"1\" class=\"dataframe\">\n",
       "  <thead>\n",
       "    <tr style=\"text-align: right;\">\n",
       "      <th></th>\n",
       "      <th>publisher</th>\n",
       "      <th>genres</th>\n",
       "      <th>app_name</th>\n",
       "      <th>title</th>\n",
       "      <th>url</th>\n",
       "      <th>release_date</th>\n",
       "      <th>tags</th>\n",
       "      <th>reviews_url</th>\n",
       "      <th>specs</th>\n",
       "      <th>price</th>\n",
       "      <th>early_access</th>\n",
       "      <th>id</th>\n",
       "      <th>developer</th>\n",
       "    </tr>\n",
       "  </thead>\n",
       "  <tbody>\n",
       "    <tr>\n",
       "      <th>120442</th>\n",
       "      <td>Laush Studio</td>\n",
       "      <td>[Indie, Racing, Simulation]</td>\n",
       "      <td>Russian Roads</td>\n",
       "      <td>Russian Roads</td>\n",
       "      <td>http://store.steampowered.com/app/610660/Russi...</td>\n",
       "      <td>2018-01-04</td>\n",
       "      <td>[Indie, Simulation, Racing]</td>\n",
       "      <td>http://steamcommunity.com/app/610660/reviews/?...</td>\n",
       "      <td>[Single-player, Steam Achievements, Steam Trad...</td>\n",
       "      <td>1.99</td>\n",
       "      <td>False</td>\n",
       "      <td>610660</td>\n",
       "      <td>Laush Dmitriy Sergeevich</td>\n",
       "    </tr>\n",
       "    <tr>\n",
       "      <th>120443</th>\n",
       "      <td>SIXNAILS</td>\n",
       "      <td>[Casual, Indie]</td>\n",
       "      <td>EXIT 2 - Directions</td>\n",
       "      <td>EXIT 2 - Directions</td>\n",
       "      <td>http://store.steampowered.com/app/658870/EXIT_...</td>\n",
       "      <td>2017-09-02</td>\n",
       "      <td>[Indie, Casual, Puzzle, Singleplayer, Atmosphe...</td>\n",
       "      <td>http://steamcommunity.com/app/658870/reviews/?...</td>\n",
       "      <td>[Single-player, Steam Achievements, Steam Cloud]</td>\n",
       "      <td>4.99</td>\n",
       "      <td>False</td>\n",
       "      <td>658870</td>\n",
       "      <td>xropi,stev3ns</td>\n",
       "    </tr>\n",
       "    <tr>\n",
       "      <th>120444</th>\n",
       "      <td>NaN</td>\n",
       "      <td>NaN</td>\n",
       "      <td>Maze Run VR</td>\n",
       "      <td>NaN</td>\n",
       "      <td>http://store.steampowered.com/app/681550/Maze_...</td>\n",
       "      <td>NaN</td>\n",
       "      <td>[Early Access, Adventure, Indie, Action, Simul...</td>\n",
       "      <td>http://steamcommunity.com/app/681550/reviews/?...</td>\n",
       "      <td>[Single-player, Stats, Steam Leaderboards, HTC...</td>\n",
       "      <td>4.99</td>\n",
       "      <td>True</td>\n",
       "      <td>681550</td>\n",
       "      <td>NaN</td>\n",
       "    </tr>\n",
       "  </tbody>\n",
       "</table>\n",
       "</div>"
      ],
      "text/plain": [
       "           publisher                       genres             app_name  \\\n",
       "120442  Laush Studio  [Indie, Racing, Simulation]        Russian Roads   \n",
       "120443      SIXNAILS              [Casual, Indie]  EXIT 2 - Directions   \n",
       "120444           NaN                          NaN          Maze Run VR   \n",
       "\n",
       "                      title  \\\n",
       "120442        Russian Roads   \n",
       "120443  EXIT 2 - Directions   \n",
       "120444                  NaN   \n",
       "\n",
       "                                                      url release_date  \\\n",
       "120442  http://store.steampowered.com/app/610660/Russi...   2018-01-04   \n",
       "120443  http://store.steampowered.com/app/658870/EXIT_...   2017-09-02   \n",
       "120444  http://store.steampowered.com/app/681550/Maze_...          NaN   \n",
       "\n",
       "                                                     tags  \\\n",
       "120442                        [Indie, Simulation, Racing]   \n",
       "120443  [Indie, Casual, Puzzle, Singleplayer, Atmosphe...   \n",
       "120444  [Early Access, Adventure, Indie, Action, Simul...   \n",
       "\n",
       "                                              reviews_url  \\\n",
       "120442  http://steamcommunity.com/app/610660/reviews/?...   \n",
       "120443  http://steamcommunity.com/app/658870/reviews/?...   \n",
       "120444  http://steamcommunity.com/app/681550/reviews/?...   \n",
       "\n",
       "                                                    specs price early_access  \\\n",
       "120442  [Single-player, Steam Achievements, Steam Trad...  1.99        False   \n",
       "120443   [Single-player, Steam Achievements, Steam Cloud]  4.99        False   \n",
       "120444  [Single-player, Stats, Steam Leaderboards, HTC...  4.99         True   \n",
       "\n",
       "            id                 developer  \n",
       "120442  610660  Laush Dmitriy Sergeevich  \n",
       "120443  658870             xropi,stev3ns  \n",
       "120444  681550                       NaN  "
      ]
     },
     "execution_count": 26,
     "metadata": {},
     "output_type": "execute_result"
    }
   ],
   "source": [
    "games.tail(3)"
   ]
  },
  {
   "cell_type": "code",
   "execution_count": 27,
   "metadata": {},
   "outputs": [
    {
     "data": {
      "text/plain": [
       "publisher       object\n",
       "genres          object\n",
       "app_name        object\n",
       "title           object\n",
       "url             object\n",
       "release_date    object\n",
       "tags            object\n",
       "reviews_url     object\n",
       "specs           object\n",
       "price           object\n",
       "early_access    object\n",
       "id              object\n",
       "developer       object\n",
       "dtype: object"
      ]
     },
     "execution_count": 27,
     "metadata": {},
     "output_type": "execute_result"
    }
   ],
   "source": [
    "games.dtypes"
   ]
  },
  {
   "cell_type": "code",
   "execution_count": 28,
   "metadata": {},
   "outputs": [
    {
     "name": "stdout",
     "output_type": "stream",
     "text": [
      "Index(['publisher', 'genres', 'app_name', 'title', 'url', 'release_date',\n",
      "       'tags', 'reviews_url', 'specs', 'price', 'early_access', 'id',\n",
      "       'developer'],\n",
      "      dtype='object')\n"
     ]
    }
   ],
   "source": [
    "# Imprimir los nombres de las columnas en el DataFrame games\n",
    "print(games.columns)"
   ]
  },
  {
   "cell_type": "markdown",
   "metadata": {},
   "source": [
    "## **Analisis inicial del archivo**\n",
    "\n",
    "Basándome en el inicio y el final del archivo proporcionado, aquí hay algunas observaciones sobre la estructura, la información y las situaciones atípicas:\n",
    "\n",
    "1. **Estructura del archivo**: El archivo parece ser un conjunto de datos tabulares con columnas que representan diferentes atributos de los juegos de Steam, como el editor, los géneros, el nombre del juego, la fecha de lanzamiento, las etiquetas, las URL, etc. Cada fila corresponde a un juego individual.\n",
    "\n",
    "2. **Información disponible**: Las columnas parecen contener una variedad de información útil sobre los juegos, como el nombre del editor, los géneros del juego, el nombre del juego, la fecha de lanzamiento, las etiquetas, las URL de las reseñas, etc. Esto proporciona una amplia gama de características para analizar y comprender los juegos.\n",
    "\n",
    "3. **Valores faltantes al inicio**: En el inicio del archivo, parece que todas las filas contienen valores NaN (Not a Number) en todas las columnas. Esto sugiere que el archivo puede haber sido inicializado con un tamaño predeterminado o que las primeras filas están incompletas o vacías.\n",
    "\n",
    "4. **Valores faltantes al final**: En el final del archivo, vemos filas que contienen valores NaN en algunas columnas, lo que indica que no toda la información está disponible para esos juegos específicos. Esto es común en los conjuntos de datos del mundo real, donde algunos campos pueden no estar completos para todos los elementos.\n",
    "\n",
    "5. **Situaciones atípicas**: Algunas filas tienen valores NaN en varias columnas, lo que indica que no se proporcionó información para esos juegos específicos. También hay casos donde el valor NaN aparece en las columnas \"publisher\" y \"developer\", lo que sugiere que la información del editor y del desarrollador no está disponible para esos juegos.\n",
    "\n",
    "En general, parece que el archivo contiene información sobre una variedad de juegos de Steam, pero algunos juegos pueden tener información incompleta o faltante en ciertas columnas. Esto es algo común en conjuntos de datos del mundo real y puede ser manejado durante el análisis de datos mediante técnicas como la imputación de valores faltantes o el enfoque en las columnas con datos completos.\n"
   ]
  },
  {
   "cell_type": "markdown",
   "metadata": {},
   "source": [
    "## Procedemos a realizar algunos procedimientos de **limpieza** necesarios para el resto del proyecto"
   ]
  },
  {
   "cell_type": "markdown",
   "metadata": {},
   "source": [
    "Este código se utiliza para limpiar el DataFrame games eliminando las filas que no contienen información válida (es decir, todas las columnas son nulas) y restableciendo el índice del DataFrame resultante. Después de ejecutar este código, df_Games contendrá el DataFrame limpio y games mantendrá su forma original."
   ]
  },
  {
   "cell_type": "code",
   "execution_count": 29,
   "metadata": {},
   "outputs": [
    {
     "data": {
      "text/plain": [
       "(32135, 13)"
      ]
     },
     "execution_count": 29,
     "metadata": {},
     "output_type": "execute_result"
    }
   ],
   "source": [
    "games = games.dropna(how='all').reset_index(drop=True)\n",
    "games.shape\n"
   ]
  },
  {
   "cell_type": "markdown",
   "metadata": {},
   "source": [
    "A continuación reemplazamos valores específicos ('', 'null', 'None') por NaN en el DataFrame games, lo que puede ser útil para limpiar los datos y tratar adecuadamente los valores faltantes o incorrectos. Después de ejecutar este código, los valores especificados serán tratados como valores nulos en el DataFrame games."
   ]
  },
  {
   "cell_type": "code",
   "execution_count": 30,
   "metadata": {},
   "outputs": [
    {
     "name": "stderr",
     "output_type": "stream",
     "text": [
      "C:\\Users\\pc-admin\\AppData\\Local\\Temp\\ipykernel_11736\\163951826.py:1: FutureWarning: Downcasting behavior in `replace` is deprecated and will be removed in a future version. To retain the old behavior, explicitly call `result.infer_objects(copy=False)`. To opt-in to the future behavior, set `pd.set_option('future.no_silent_downcasting', True)`\n",
      "  games.replace(['', 'null', 'None'], np.nan, inplace=True)\n"
     ]
    }
   ],
   "source": [
    "games.replace(['', 'null', 'None'], np.nan, inplace=True)"
   ]
  },
  {
   "cell_type": "code",
   "execution_count": 31,
   "metadata": {},
   "outputs": [
    {
     "name": "stdout",
     "output_type": "stream",
     "text": [
      "Porcentaje de valores nulos por columna:\n",
      "publisher       25.084799\n",
      "genres          10.216275\n",
      "app_name         0.006224\n",
      "title            6.379337\n",
      "url              0.000000\n",
      "release_date     6.432239\n",
      "tags             0.507235\n",
      "reviews_url      0.006224\n",
      "specs            2.084954\n",
      "price            4.285047\n",
      "early_access     0.000000\n",
      "id               0.006224\n",
      "developer       10.266065\n",
      "dtype: float64\n"
     ]
    }
   ],
   "source": [
    "total_filas = len(games)\n",
    "valores_nulos_por_columna = games.isnull().sum()\n",
    "\n",
    "# Calcular el porcentaje de valores nulos en cada columna\n",
    "porcentaje_valores_nulos_por_columna = (valores_nulos_por_columna / total_filas) * 100\n",
    "\n",
    "# Imprimir el porcentaje de valores nulos en cada columna\n",
    "print(\"Porcentaje de valores nulos por columna:\")\n",
    "print(porcentaje_valores_nulos_por_columna)\n"
   ]
  },
  {
   "cell_type": "markdown",
   "metadata": {},
   "source": [
    "Esto nos da una idea de la integridad de los datos en cada una de las columnas del DataFrame `games`.\n",
    "\n",
    "- La columna `publisher` tiene un alto porcentaje de valores nulos (aproximadamente el 25%). Esto significa que alrededor de una cuarta parte de las entradas en esta columna no tienen un valor de editor asociado.\n",
    "- La columna `genres` tiene un porcentaje de valores nulos de alrededor del 10%, lo que indica que una décima parte de las entradas en esta columna no tienen géneros especificados.\n",
    "- La columna `app_name` tiene un porcentaje muy bajo de valores nulos, lo que sugiere que casi todas las entradas tienen un nombre de aplicación asociado.\n",
    "- Las columnas `url`, `reviews_url` y `early_access` no tienen valores nulos, lo que indica que todas las entradas tienen valores válidos para estas características.\n",
    "- Las columnas `title`, `release_date`, `tags`, `specs`, `price`, `id` y `developer` tienen porcentajes de valores nulos en el rango del 0-10%, lo que sugiere que algunos valores pueden faltar en estas columnas, pero en general la integridad de los datos parece ser buena.\n",
    "\n",
    "Con esta información, puedes tomar decisiones informadas sobre cómo manejar los valores nulos en tu análisis de datos, como imputar valores faltantes, eliminar filas correspondientes o ajustar análisis para tener en cuenta la ausencia de datos en ciertas columnas."
   ]
  },
  {
   "cell_type": "code",
   "execution_count": 32,
   "metadata": {},
   "outputs": [
    {
     "name": "stdout",
     "output_type": "stream",
     "text": [
      "['2018-01-04' '2017-07-24' '2017-12-07' nan 'Soon..']\n"
     ]
    }
   ],
   "source": [
    "dates = games['release_date'].unique()\n",
    "print(dates[:5])\n"
   ]
  },
  {
   "cell_type": "markdown",
   "metadata": {},
   "source": [
    " El siguiente código convierte la columna 'release_date' en un formato de fecha y hora, y luego extrae el año de cada fecha y lo almacena en una nueva columna llamada 'year' en el DataFrame 'games'."
   ]
  },
  {
   "cell_type": "code",
   "execution_count": 33,
   "metadata": {},
   "outputs": [],
   "source": [
    "games['release_date']=pd.to_datetime(games['release_date'], errors='coerce', exact=False)\n",
    "games['year'] = games['release_date'].dt.year.astype('Int64')"
   ]
  },
  {
   "cell_type": "markdown",
   "metadata": {},
   "source": [
    "Ahora, Se rellenan los valores nulos en la columna 'year' con la mediana de los valores no nulos de esa columna. Esto se hace mediante el uso del método fillna() de Pandas, pasando como argumento la mediana calculada a partir de games['year'].median().\n",
    "\n",
    "Se convierte la columna 'price' a tipo numérico. Si algún valor no puede ser convertido a numérico (por ejemplo, si el valor es 'Free To Play'), se asigna NaN a ese valor. Esto se logra utilizando pd.to_numeric() con el parámetro errors='coerce', que convierte los valores no numéricos a NaN."
   ]
  },
  {
   "cell_type": "code",
   "execution_count": 34,
   "metadata": {},
   "outputs": [],
   "source": [
    "games['year'] = games['year'].fillna(games['year'].median())\n",
    "\n",
    "games['price'] = pd.to_numeric(games['price'], errors='coerce')\n"
   ]
  },
  {
   "cell_type": "code",
   "execution_count": 35,
   "metadata": {},
   "outputs": [
    {
     "name": "stderr",
     "output_type": "stream",
     "text": [
      "C:\\Users\\pc-admin\\AppData\\Local\\Temp\\ipykernel_11736\\2421023302.py:11: FutureWarning: DataFrame.fillna with 'method' is deprecated and will raise in a future version. Use obj.ffill() or obj.bfill() instead.\n",
      "  data_games_clean.fillna(method='ffill', inplace=True)\n"
     ]
    }
   ],
   "source": [
    "# Calcular el porcentaje de valores nulos por columna\n",
    "total_filas = len(games)\n",
    "valores_nulos_por_columna = games.isnull().sum()\n",
    "porcentaje_valores_nulos_por_columna = (valores_nulos_por_columna / total_filas) * 100\n",
    "\n",
    "# Eliminar columnas con más del 10% de valores nulos\n",
    "columnas_eliminar = porcentaje_valores_nulos_por_columna[porcentaje_valores_nulos_por_columna > 10].index\n",
    "data_games_clean = games.drop(columns=columnas_eliminar)\n",
    "\n",
    "# Imputar valores nulos utilizando el método ffill\n",
    "data_games_clean.fillna(method='ffill', inplace=True)\n",
    "\n",
    "# Guardar el DataFrame limpio como un nuevo archivo JSON\n",
    "ruta_guardado_json = r'C:\\Users\\pc-admin\\Documents\\DATA\\Archivos Limpios Json PI_1\\data_games_clean.json'\n",
    "data_games_clean.to_json(ruta_guardado_json, orient='records', lines=True)\n",
    "\n",
    "# Guardar el DataFrame limpio como un nuevo archivo CSV\n",
    "ruta_guardado_csv = r'C:\\Users\\pc-admin\\Documents\\ML_RecSys_Model\\Data_ETL\\data_games_clean.csv'\n",
    "data_games_clean.to_csv(ruta_guardado_csv, index=False)\n"
   ]
  },
  {
   "cell_type": "code",
   "execution_count": 36,
   "metadata": {},
   "outputs": [
    {
     "name": "stdout",
     "output_type": "stream",
     "text": [
      "Porcentaje de valores nulos por columna:\n",
      "app_name        0.0\n",
      "title           0.0\n",
      "url             0.0\n",
      "release_date    0.0\n",
      "tags            0.0\n",
      "reviews_url     0.0\n",
      "specs           0.0\n",
      "early_access    0.0\n",
      "id              0.0\n",
      "year            0.0\n",
      "dtype: float64\n"
     ]
    }
   ],
   "source": [
    "import pandas as pd\n",
    "\n",
    "# Ruta del archivo CSV limpio\n",
    "file_clean = r'C:\\Users\\pc-admin\\Documents\\ML_RecSys_Model\\Data_ETL\\data_games_clean.csv'\n",
    "\n",
    "# Cargar el DataFrame limpio desde el archivo CSV\n",
    "data_games_clean = pd.read_csv(file_clean)\n",
    "\n",
    "# Calcular el total de filas y los valores nulos por columna\n",
    "total_filas = len(games)\n",
    "valores_nulos_por_columna = data_games_clean.isnull().sum()\n",
    "\n",
    "# Calcular el porcentaje de valores nulos en cada columna\n",
    "porcentaje_valores_nulos_por_columna = (valores_nulos_por_columna / total_filas) * 100\n",
    "\n",
    "# Imprimir el porcentaje de valores nulos en cada columna\n",
    "print(\"Porcentaje de valores nulos por columna:\")\n",
    "print(porcentaje_valores_nulos_por_columna)\n"
   ]
  },
  {
   "cell_type": "code",
   "execution_count": 37,
   "metadata": {},
   "outputs": [
    {
     "data": {
      "text/html": [
       "<div>\n",
       "<style scoped>\n",
       "    .dataframe tbody tr th:only-of-type {\n",
       "        vertical-align: middle;\n",
       "    }\n",
       "\n",
       "    .dataframe tbody tr th {\n",
       "        vertical-align: top;\n",
       "    }\n",
       "\n",
       "    .dataframe thead th {\n",
       "        text-align: right;\n",
       "    }\n",
       "</style>\n",
       "<table border=\"1\" class=\"dataframe\">\n",
       "  <thead>\n",
       "    <tr style=\"text-align: right;\">\n",
       "      <th></th>\n",
       "      <th>app_name</th>\n",
       "      <th>title</th>\n",
       "      <th>url</th>\n",
       "      <th>release_date</th>\n",
       "      <th>tags</th>\n",
       "      <th>reviews_url</th>\n",
       "      <th>specs</th>\n",
       "      <th>early_access</th>\n",
       "      <th>id</th>\n",
       "      <th>year</th>\n",
       "    </tr>\n",
       "  </thead>\n",
       "  <tbody>\n",
       "    <tr>\n",
       "      <th>0</th>\n",
       "      <td>Lost Summoner Kitty</td>\n",
       "      <td>Lost Summoner Kitty</td>\n",
       "      <td>http://store.steampowered.com/app/761140/Lost_...</td>\n",
       "      <td>2018-01-04</td>\n",
       "      <td>['Strategy', 'Action', 'Indie', 'Casual', 'Sim...</td>\n",
       "      <td>http://steamcommunity.com/app/761140/reviews/?...</td>\n",
       "      <td>['Single-player']</td>\n",
       "      <td>False</td>\n",
       "      <td>761140</td>\n",
       "      <td>2018</td>\n",
       "    </tr>\n",
       "    <tr>\n",
       "      <th>1</th>\n",
       "      <td>Ironbound</td>\n",
       "      <td>Ironbound</td>\n",
       "      <td>http://store.steampowered.com/app/643980/Ironb...</td>\n",
       "      <td>2018-01-04</td>\n",
       "      <td>['Free to Play', 'Strategy', 'Indie', 'RPG', '...</td>\n",
       "      <td>http://steamcommunity.com/app/643980/reviews/?...</td>\n",
       "      <td>['Single-player', 'Multi-player', 'Online Mult...</td>\n",
       "      <td>False</td>\n",
       "      <td>643980</td>\n",
       "      <td>2018</td>\n",
       "    </tr>\n",
       "    <tr>\n",
       "      <th>2</th>\n",
       "      <td>Real Pool 3D - Poolians</td>\n",
       "      <td>Real Pool 3D - Poolians</td>\n",
       "      <td>http://store.steampowered.com/app/670290/Real_...</td>\n",
       "      <td>2017-07-24</td>\n",
       "      <td>['Free to Play', 'Simulation', 'Sports', 'Casu...</td>\n",
       "      <td>http://steamcommunity.com/app/670290/reviews/?...</td>\n",
       "      <td>['Single-player', 'Multi-player', 'Online Mult...</td>\n",
       "      <td>False</td>\n",
       "      <td>670290</td>\n",
       "      <td>2017</td>\n",
       "    </tr>\n",
       "    <tr>\n",
       "      <th>3</th>\n",
       "      <td>弹炸人2222</td>\n",
       "      <td>弹炸人2222</td>\n",
       "      <td>http://store.steampowered.com/app/767400/2222/</td>\n",
       "      <td>2017-12-07</td>\n",
       "      <td>['Action', 'Adventure', 'Casual']</td>\n",
       "      <td>http://steamcommunity.com/app/767400/reviews/?...</td>\n",
       "      <td>['Single-player']</td>\n",
       "      <td>False</td>\n",
       "      <td>767400</td>\n",
       "      <td>2017</td>\n",
       "    </tr>\n",
       "    <tr>\n",
       "      <th>4</th>\n",
       "      <td>Log Challenge</td>\n",
       "      <td>弹炸人2222</td>\n",
       "      <td>http://store.steampowered.com/app/773570/Log_C...</td>\n",
       "      <td>2017-12-07</td>\n",
       "      <td>['Action', 'Indie', 'Casual', 'Sports']</td>\n",
       "      <td>http://steamcommunity.com/app/773570/reviews/?...</td>\n",
       "      <td>['Single-player', 'Full controller support', '...</td>\n",
       "      <td>False</td>\n",
       "      <td>773570</td>\n",
       "      <td>2016</td>\n",
       "    </tr>\n",
       "  </tbody>\n",
       "</table>\n",
       "</div>"
      ],
      "text/plain": [
       "                  app_name                    title  \\\n",
       "0      Lost Summoner Kitty      Lost Summoner Kitty   \n",
       "1                Ironbound                Ironbound   \n",
       "2  Real Pool 3D - Poolians  Real Pool 3D - Poolians   \n",
       "3                  弹炸人2222                  弹炸人2222   \n",
       "4            Log Challenge                  弹炸人2222   \n",
       "\n",
       "                                                 url release_date  \\\n",
       "0  http://store.steampowered.com/app/761140/Lost_...   2018-01-04   \n",
       "1  http://store.steampowered.com/app/643980/Ironb...   2018-01-04   \n",
       "2  http://store.steampowered.com/app/670290/Real_...   2017-07-24   \n",
       "3     http://store.steampowered.com/app/767400/2222/   2017-12-07   \n",
       "4  http://store.steampowered.com/app/773570/Log_C...   2017-12-07   \n",
       "\n",
       "                                                tags  \\\n",
       "0  ['Strategy', 'Action', 'Indie', 'Casual', 'Sim...   \n",
       "1  ['Free to Play', 'Strategy', 'Indie', 'RPG', '...   \n",
       "2  ['Free to Play', 'Simulation', 'Sports', 'Casu...   \n",
       "3                  ['Action', 'Adventure', 'Casual']   \n",
       "4            ['Action', 'Indie', 'Casual', 'Sports']   \n",
       "\n",
       "                                         reviews_url  \\\n",
       "0  http://steamcommunity.com/app/761140/reviews/?...   \n",
       "1  http://steamcommunity.com/app/643980/reviews/?...   \n",
       "2  http://steamcommunity.com/app/670290/reviews/?...   \n",
       "3  http://steamcommunity.com/app/767400/reviews/?...   \n",
       "4  http://steamcommunity.com/app/773570/reviews/?...   \n",
       "\n",
       "                                               specs  early_access      id  \\\n",
       "0                                  ['Single-player']         False  761140   \n",
       "1  ['Single-player', 'Multi-player', 'Online Mult...         False  643980   \n",
       "2  ['Single-player', 'Multi-player', 'Online Mult...         False  670290   \n",
       "3                                  ['Single-player']         False  767400   \n",
       "4  ['Single-player', 'Full controller support', '...         False  773570   \n",
       "\n",
       "   year  \n",
       "0  2018  \n",
       "1  2018  \n",
       "2  2017  \n",
       "3  2017  \n",
       "4  2016  "
      ]
     },
     "execution_count": 37,
     "metadata": {},
     "output_type": "execute_result"
    }
   ],
   "source": [
    "data_games_clean.head(5)"
   ]
  },
  {
   "cell_type": "markdown",
   "metadata": {},
   "source": [
    "**Como el objetivo del proyecto es desarrollar un sistema de recomendacion efectivo pero a la vez liviano, que se pueda trabajar en la version free de Render, vamos a proceder a eliminar las columnas de menor relevancia del DataSet**"
   ]
  },
  {
   "cell_type": "code",
   "execution_count": 38,
   "metadata": {},
   "outputs": [],
   "source": [
    "data_games_clean.drop(['title','url','reviews_url','early_access','release_date'], axis=1, inplace=True)"
   ]
  },
  {
   "cell_type": "code",
   "execution_count": 39,
   "metadata": {},
   "outputs": [
    {
     "data": {
      "text/html": [
       "<div>\n",
       "<style scoped>\n",
       "    .dataframe tbody tr th:only-of-type {\n",
       "        vertical-align: middle;\n",
       "    }\n",
       "\n",
       "    .dataframe tbody tr th {\n",
       "        vertical-align: top;\n",
       "    }\n",
       "\n",
       "    .dataframe thead th {\n",
       "        text-align: right;\n",
       "    }\n",
       "</style>\n",
       "<table border=\"1\" class=\"dataframe\">\n",
       "  <thead>\n",
       "    <tr style=\"text-align: right;\">\n",
       "      <th></th>\n",
       "      <th>app_name</th>\n",
       "      <th>tags</th>\n",
       "      <th>specs</th>\n",
       "      <th>id</th>\n",
       "      <th>year</th>\n",
       "    </tr>\n",
       "  </thead>\n",
       "  <tbody>\n",
       "    <tr>\n",
       "      <th>0</th>\n",
       "      <td>Lost Summoner Kitty</td>\n",
       "      <td>['Strategy', 'Action', 'Indie', 'Casual', 'Sim...</td>\n",
       "      <td>['Single-player']</td>\n",
       "      <td>761140</td>\n",
       "      <td>2018</td>\n",
       "    </tr>\n",
       "    <tr>\n",
       "      <th>1</th>\n",
       "      <td>Ironbound</td>\n",
       "      <td>['Free to Play', 'Strategy', 'Indie', 'RPG', '...</td>\n",
       "      <td>['Single-player', 'Multi-player', 'Online Mult...</td>\n",
       "      <td>643980</td>\n",
       "      <td>2018</td>\n",
       "    </tr>\n",
       "    <tr>\n",
       "      <th>2</th>\n",
       "      <td>Real Pool 3D - Poolians</td>\n",
       "      <td>['Free to Play', 'Simulation', 'Sports', 'Casu...</td>\n",
       "      <td>['Single-player', 'Multi-player', 'Online Mult...</td>\n",
       "      <td>670290</td>\n",
       "      <td>2017</td>\n",
       "    </tr>\n",
       "    <tr>\n",
       "      <th>3</th>\n",
       "      <td>弹炸人2222</td>\n",
       "      <td>['Action', 'Adventure', 'Casual']</td>\n",
       "      <td>['Single-player']</td>\n",
       "      <td>767400</td>\n",
       "      <td>2017</td>\n",
       "    </tr>\n",
       "    <tr>\n",
       "      <th>4</th>\n",
       "      <td>Log Challenge</td>\n",
       "      <td>['Action', 'Indie', 'Casual', 'Sports']</td>\n",
       "      <td>['Single-player', 'Full controller support', '...</td>\n",
       "      <td>773570</td>\n",
       "      <td>2016</td>\n",
       "    </tr>\n",
       "  </tbody>\n",
       "</table>\n",
       "</div>"
      ],
      "text/plain": [
       "                  app_name                                               tags  \\\n",
       "0      Lost Summoner Kitty  ['Strategy', 'Action', 'Indie', 'Casual', 'Sim...   \n",
       "1                Ironbound  ['Free to Play', 'Strategy', 'Indie', 'RPG', '...   \n",
       "2  Real Pool 3D - Poolians  ['Free to Play', 'Simulation', 'Sports', 'Casu...   \n",
       "3                  弹炸人2222                  ['Action', 'Adventure', 'Casual']   \n",
       "4            Log Challenge            ['Action', 'Indie', 'Casual', 'Sports']   \n",
       "\n",
       "                                               specs      id  year  \n",
       "0                                  ['Single-player']  761140  2018  \n",
       "1  ['Single-player', 'Multi-player', 'Online Mult...  643980  2018  \n",
       "2  ['Single-player', 'Multi-player', 'Online Mult...  670290  2017  \n",
       "3                                  ['Single-player']  767400  2017  \n",
       "4  ['Single-player', 'Full controller support', '...  773570  2016  "
      ]
     },
     "execution_count": 39,
     "metadata": {},
     "output_type": "execute_result"
    }
   ],
   "source": [
    "data_games_clean.head(5)"
   ]
  },
  {
   "cell_type": "code",
   "execution_count": 40,
   "metadata": {},
   "outputs": [],
   "source": [
    "# Guardar el DataFrame limpio como un nuevo archivo CSV\n",
    "ruta_guardado_csv = r'C:\\Users\\pc-admin\\Documents\\ML_RecSys_Model\\Data_ETL\\data_games_clean.csv'\n",
    "data_games_clean.to_csv(ruta_guardado_csv, index=False)\n"
   ]
  },
  {
   "cell_type": "code",
   "execution_count": 41,
   "metadata": {},
   "outputs": [
    {
     "data": {
      "text/plain": [
       "app_name    object\n",
       "tags        object\n",
       "specs       object\n",
       "id           int64\n",
       "year         int64\n",
       "dtype: object"
      ]
     },
     "execution_count": 41,
     "metadata": {},
     "output_type": "execute_result"
    }
   ],
   "source": [
    "data_games_clean.dtypes"
   ]
  }
 ],
 "metadata": {
  "kernelspec": {
   "display_name": "Python 3",
   "language": "python",
   "name": "python3"
  },
  "language_info": {
   "codemirror_mode": {
    "name": "ipython",
    "version": 3
   },
   "file_extension": ".py",
   "mimetype": "text/x-python",
   "name": "python",
   "nbconvert_exporter": "python",
   "pygments_lexer": "ipython3",
   "version": "3.12.2"
  }
 },
 "nbformat": 4,
 "nbformat_minor": 2
}
