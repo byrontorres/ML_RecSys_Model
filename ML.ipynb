{
 "cells": [
  {
   "cell_type": "markdown",
   "metadata": {},
   "source": [
    "## **Generar archivo para recomendaciones**\n",
    "\n",
    "1. **Carga de datos**: El proceso comienza cargando el conjunto de datos 'data_games_clean.csv', que contiene información sobre los juegos de Steam. Este archivo incluye columnas como el nombre del juego, sus especificaciones y un identificador único para cada juego.\n",
    "\n",
    "2. **Preprocesamiento de datos**: Se seleccionan las columnas relevantes del conjunto de datos, que son las especificaciones y el identificador único del juego. El identificador único se convierte a tipo entero para facilitar su manipulación.\n",
    "\n",
    "3. **Vectorización de texto**: Las especificaciones de cada juego se procesan utilizando CountVectorizer, una técnica de vectorización de texto que convierte el texto en una representación numérica que puede ser utilizada por algoritmos de aprendizaje automático.\n",
    "\n",
    "4. **Cálculo de similitud**: Se utiliza la similitud del coseno para calcular la similitud entre las especificaciones de todos los pares de juegos en el conjunto de datos. Este cálculo crea una matriz de similitud que indica cuán similares son los juegos entre sí en función de sus especificaciones.\n",
    "\n",
    "5. **Generación de recomendaciones**: Se define una función que toma un juego como entrada y devuelve una lista de los cinco juegos más similares a él, según la matriz de similitud calculada anteriormente. Estas recomendaciones se basan en las especificaciones de los juegos, lo que permite identificar juegos similares en función de sus características.\n",
    "\n",
    "6. **Creación del archivo CSV de recomendaciones**: Se aplica la función de recomendación a cada juego en el conjunto de datos y se crea una nueva columna llamada 'Recomendaciones' que contiene las listas de juegos recomendados. Las columnas innecesarias se eliminan para reducir el tamaño del archivo final.\n",
    "\n",
    "7. **Almacenamiento del archivo CSV**: Finalmente, el DataFrame resultante se guarda como un archivo CSV llamado 'feel.csv' en la ubicación especificada ('C:\\Users\\pc-admin\\Documents\\ML_RecSys_Model\\SistemReco'). Este archivo contiene las recomendaciones de juegos basadas en similitudes de especificaciones.\n",
    "\n",
    "Este proceso permite a los usuarios descubrir nuevos juegos similares a sus preferidos en función de las características y especificaciones de los juegos existentes en el conjunto de datos de Steam."
   ]
  },
  {
   "cell_type": "code",
   "execution_count": 1,
   "metadata": {},
   "outputs": [],
   "source": [
    "import pandas as pd\n",
    "from sklearn.feature_extraction.text import CountVectorizer\n",
    "from sklearn.metrics.pairwise import cosine_similarity\n",
    "\n",
    "# Cargar el conjunto de datos\n",
    "steam_games = pd.read_csv(r'C:\\Users\\pc-admin\\Documents\\ML_RecSys_Model\\Data_ETL\\data_games_clean.csv')\n",
    "\n",
    "# Seleccionar las columnas necesarias\n",
    "df = steam_games.loc[:, [\"specs\", \"id\", \"app_name\"]]\n",
    "\n",
    "# Convertir 'id' a tipo entero\n",
    "df[\"id\"] = df[\"id\"].astype(int)\n",
    "\n",
    "# Limpiar la columna 'specs'\n",
    "df['specs'] = df['specs'].apply(lambda x: str(x).replace('[', '').replace(']', '').replace(\"'\", ''))\n",
    "\n",
    "# Crear un vectorizador de texto\n",
    "cv = CountVectorizer()\n",
    "vectores = cv.fit_transform(df['specs']).toarray()\n",
    "\n",
    "# Calcular la similitud del coseno entre vectores\n",
    "similitud = cosine_similarity(vectores)\n",
    "\n",
    "# Generar una función para obtener recomendaciones por título\n",
    "def recomendacion(juego):\n",
    "    # Se busca el índice del juego en el DataFrame original (df). Este índice es utilizado para acceder a la fila correspondiente en la matriz de similitud.\n",
    "    indice_juego = df[df[\"id\"] == juego].index[0]\n",
    "    \n",
    "    # Cálculo de Similitudes: Se obtienen las distancias de similitud entre el juego de entrada y todos los demás juegos en el conjunto de datos. \n",
    "    distances = similitud[indice_juego]\n",
    "    \n",
    "    # Las distancias se ordenan de manera descendente, y se seleccionan los cinco juegos más similares (excluyendo el juego de entrada)\n",
    "    lista_juegos = sorted(list(enumerate(distances)), reverse=True, key=lambda x: x[1])[1:6]\n",
    "    \n",
    "    # Salida. Devuelve la lista de títulos recomendados.\n",
    "    recommended_titles = [df.iloc[i[0]]['app_name'] for i in lista_juegos]\n",
    "    \n",
    "    return recommended_titles\n",
    "\n",
    "# Aplicar la función a la columna 'id' y crear una nueva columna 'Recomendaciones'\n",
    "df['Recomendaciones'] = df['id'].apply(recomendacion)\n",
    "\n",
    "# Eliminar columnas innecesarias para disminuir el tamaño del archivo de salida\n",
    "df.drop(columns=['app_name', 'specs'], inplace=True)\n",
    "\n",
    "# Guardar el DataFrame como archivo CSV\n",
    "df.to_csv(r'C:\\Users\\pc-admin\\Documents\\ML_RecSys_Model\\SistemReco\\feel.csv', index=False)\n"
   ]
  }
 ],
 "metadata": {
  "kernelspec": {
   "display_name": "Python 3",
   "language": "python",
   "name": "python3"
  },
  "language_info": {
   "codemirror_mode": {
    "name": "ipython",
    "version": 3
   },
   "file_extension": ".py",
   "mimetype": "text/x-python",
   "name": "python",
   "nbconvert_exporter": "python",
   "pygments_lexer": "ipython3",
   "version": "3.12.2"
  }
 },
 "nbformat": 4,
 "nbformat_minor": 2
}
